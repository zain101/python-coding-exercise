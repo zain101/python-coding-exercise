{
 "cells": [
  {
   "cell_type": "code",
   "execution_count": 1,
   "metadata": {
    "collapsed": true
   },
   "outputs": [],
   "source": [
    "from operator import itemgetter\n",
    "import collections"
   ]
  },
  {
   "cell_type": "code",
   "execution_count": 14,
   "metadata": {
    "collapsed": false
   },
   "outputs": [],
   "source": [
    "def read_csv(filepath):\n",
    "    flag = True\n",
    "    df = []\n",
    "    with open(filepath, 'r') as f:\n",
    "        results = []\n",
    "        for line in f:\n",
    "                words = line.split(',')\n",
    "                words.append(words.pop(-1).strip('\\n'))\n",
    "                if flag:\n",
    "                    df = collections.OrderedDict((key,[]) for key in words)\n",
    "\n",
    "                if not flag:\n",
    "                    for i,j in enumerate(df):\n",
    "                        try:\n",
    "                            df[j].append(float(words[i]))\n",
    "                        except:\n",
    "                            df[j].append(words[i])\n",
    "                flag=False\n",
    "                results.append(( words[:]))\n",
    "    return df\n",
    "df = read_csv('NST-EST2015-alldata.csv')"
   ]
  },
  {
   "cell_type": "code",
   "execution_count": 15,
   "metadata": {
    "collapsed": false
   },
   "outputs": [],
   "source": [
    "def filter_df(df, filter_element, condition):\n",
    "    srt_key = [ i for i, j in enumerate(df[filter_element]) if condition(j)]\n",
    "    new_df = collections.OrderedDict()\n",
    "    for k,v in df.items():\n",
    "        new_df[k] = list(itemgetter(*srt_key)(v))\n",
    "    return new_df\n",
    "\n",
    "df  = filter_df(df, 'SUMLEV', (lambda a: a==40))"
   ]
  },
  {
   "cell_type": "code",
   "execution_count": 5,
   "metadata": {
    "collapsed": false
   },
   "outputs": [],
   "source": [
    "def sort_df(df, sort_element):\n",
    "    srt_key = [i for i, e in sorted(enumerate(df[sort_element]), key=itemgetter(1), reverse=True)]\n",
    "    new_df = collections.OrderedDict()\n",
    "    for k,v in df.items():\n",
    "        new_df[k] = list(itemgetter(*srt_key)(v))\n",
    "    \n",
    "    return new_df\n",
    "df = sort_df(df, 'POPESTIMATE2015')\n"
   ]
  },
  {
   "cell_type": "code",
   "execution_count": 16,
   "metadata": {
    "collapsed": false
   },
   "outputs": [
    {
     "name": "stdout",
     "output_type": "stream",
     "text": [
      "INDEX\t\tPOPESTIMATE2015\t\tNAME      \t\t\n",
      "0\t\t 4858979.0 \t\tAlabama   \t\t\n",
      "1\t\t 738432.0  \t\tAlaska    \t\t\n",
      "2\t\t 6828065.0 \t\tArizona   \t\t\n",
      "3\t\t 2978204.0 \t\tArkansas  \t\t\n",
      "4\t\t 39144818.0\t\tCalifornia\t\t\n",
      "5\t\t 5456574.0 \t\tColorado  \t\t\n",
      "6\t\t 3590886.0 \t\tConnecticut\t\t\n",
      "7\t\t 945934.0  \t\tDelaware  \t\t\n",
      "8\t\t 672228.0  \t\tDistrict of Columbia\t\t\n",
      "9\t\t 20271272.0\t\tFlorida   \t\t\n",
      "10\t\t 10214860.0\t\tGeorgia   \t\t\n",
      "11\t\t 1431603.0 \t\tHawaii    \t\t\n",
      "12\t\t 1654930.0 \t\tIdaho     \t\t\n",
      "13\t\t 12859995.0\t\tIllinois  \t\t\n",
      "14\t\t 6619680.0 \t\tIndiana   \t\t\n",
      "15\t\t 3123899.0 \t\tIowa      \t\t\n",
      "16\t\t 2911641.0 \t\tKansas    \t\t\n",
      "17\t\t 4425092.0 \t\tKentucky  \t\t\n",
      "18\t\t 4670724.0 \t\tLouisiana \t\t\n",
      "19\t\t 1329328.0 \t\tMaine     \t\t\n",
      "20\t\t 6006401.0 \t\tMaryland  \t\t\n",
      "21\t\t 6794422.0 \t\tMassachusetts\t\t\n",
      "22\t\t 9922576.0 \t\tMichigan  \t\t\n",
      "23\t\t 5489594.0 \t\tMinnesota \t\t\n",
      "24\t\t 2992333.0 \t\tMississippi\t\t\n",
      "25\t\t 6083672.0 \t\tMissouri  \t\t\n",
      "26\t\t 1032949.0 \t\tMontana   \t\t\n",
      "27\t\t 1896190.0 \t\tNebraska  \t\t\n",
      "28\t\t 2890845.0 \t\tNevada    \t\t\n",
      "29\t\t 1330608.0 \t\tNew Hampshire\t\t\n",
      "30\t\t 8958013.0 \t\tNew Jersey\t\t\n",
      "31\t\t 2085109.0 \t\tNew Mexico\t\t\n",
      "32\t\t 19795791.0\t\tNew York  \t\t\n",
      "33\t\t 10042802.0\t\tNorth Carolina\t\t\n",
      "34\t\t 756927.0  \t\tNorth Dakota\t\t\n",
      "35\t\t 11613423.0\t\tOhio      \t\t\n",
      "36\t\t 3911338.0 \t\tOklahoma  \t\t\n",
      "37\t\t 4028977.0 \t\tOregon    \t\t\n",
      "38\t\t 12802503.0\t\tPennsylvania\t\t\n",
      "39\t\t 1056298.0 \t\tRhode Island\t\t\n",
      "40\t\t 4896146.0 \t\tSouth Carolina\t\t\n",
      "41\t\t 858469.0  \t\tSouth Dakota\t\t\n",
      "42\t\t 6600299.0 \t\tTennessee \t\t\n",
      "43\t\t 27469114.0\t\tTexas     \t\t\n",
      "44\t\t 2995919.0 \t\tUtah      \t\t\n",
      "45\t\t 626042.0  \t\tVermont   \t\t\n",
      "46\t\t 8382993.0 \t\tVirginia  \t\t\n",
      "47\t\t 7170351.0 \t\tWashington\t\t\n",
      "48\t\t 1844128.0 \t\tWest Virginia\t\t\n",
      "49\t\t 5771337.0 \t\tWisconsin \t\t\n",
      "50\t\t 586107.0  \t\tWyoming   \t\t\n",
      "51\t\t 3474182.0 \t\tPuerto Rico\t\t\n"
     ]
    }
   ],
   "source": [
    "   \n",
    "def display_df(df, col):\n",
    "    if col:\n",
    "        str_template = \"\"\n",
    "        inner_template = \"\"\n",
    "        for i,j in enumerate(col):\n",
    "            str_template = str_template+\"{:10}\\t\\t\"\n",
    "            inner_template = inner_template+\"{:10}\\t\\t\"\n",
    "        str_template = str_template.format(*col)\n",
    "\n",
    "        print(\"INDEX\\t\\t\"+str_template)\n",
    "        for i in range(len(df['NAME'])):\n",
    "            print(str(i)+\"\\t\\t\", inner_template.format(*[(lambda co: str(df[co][i]))(co) for co in col  ] ))\n",
    "        \n",
    "        \n",
    "x = display_df(df, col= ['POPESTIMATE2015','NAME' ])"
   ]
  }
 ],
 "metadata": {
  "kernelspec": {
   "display_name": "Python 3",
   "language": "python",
   "name": "python3"
  },
  "language_info": {
   "codemirror_mode": {
    "name": "ipython",
    "version": 3
   },
   "file_extension": ".py",
   "mimetype": "text/x-python",
   "name": "python",
   "nbconvert_exporter": "python",
   "pygments_lexer": "ipython3",
   "version": "3.5.2"
  }
 },
 "nbformat": 4,
 "nbformat_minor": 1
}
